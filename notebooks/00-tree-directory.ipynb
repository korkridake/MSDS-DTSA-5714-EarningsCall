{
 "cells": [
  {
   "cell_type": "code",
   "execution_count": 1,
   "metadata": {},
   "outputs": [
    {
     "name": "stdout",
     "output_type": "stream",
     "text": [
      "Hello World\n"
     ]
    }
   ],
   "source": [
    "# Let's test run\n",
    "print(\"Hello World\")"
   ]
  },
  {
   "cell_type": "code",
   "execution_count": 4,
   "metadata": {},
   "outputs": [
    {
     "name": "stdout",
     "output_type": "stream",
     "text": [
      "Collecting directory-tree\n",
      "  Downloading directory_tree-0.0.4-py3-none-any.whl.metadata (6.4 kB)\n",
      "Downloading directory_tree-0.0.4-py3-none-any.whl (17 kB)\n",
      "Installing collected packages: directory-tree\n",
      "Successfully installed directory-tree-0.0.4\n"
     ]
    }
   ],
   "source": [
    "# Install Utility Package that Displays out the Tree Structure of a Particular Directory.\n",
    "!pip install directory-tree"
   ]
  },
  {
   "cell_type": "code",
   "execution_count": 5,
   "metadata": {},
   "outputs": [
    {
     "name": "stdout",
     "output_type": "stream",
     "text": [
      "/workspaces/MSDS-DTSA-5714-EarningsCall/notebooks\n"
     ]
    }
   ],
   "source": [
    "# Display the current working directory\n",
    "!pwd"
   ]
  },
  {
   "cell_type": "code",
   "execution_count": 8,
   "metadata": {},
   "outputs": [
    {
     "name": "stdout",
     "output_type": "stream",
     "text": [
      "MSDS-DTSA-5714-EarningsCall/\n",
      "├── .git/\n",
      "│   ├── branches/\n",
      "│   ├── config\n",
      "│   ├── description\n",
      "│   ├── FETCH_HEAD\n",
      "│   ├── HEAD\n",
      "│   ├── hooks/\n",
      "│   ├── index\n",
      "│   ├── info/\n",
      "│   ├── lfs/\n",
      "│   ├── logs/\n",
      "│   ├── objects/\n",
      "│   ├── packed-refs\n",
      "│   └── refs/\n",
      "├── .github/\n",
      "│   └── workflows/\n",
      "├── .venv/\n",
      "│   ├── .gitignore\n",
      "│   ├── bin/\n",
      "│   ├── etc/\n",
      "│   ├── include/\n",
      "│   ├── lib/\n",
      "│   ├── lib64/\n",
      "│   ├── pyvenv.cfg\n",
      "│   └── share/\n",
      "├── app.py\n",
      "├── data/\n",
      "│   └── META-Q1-2023-Earnings-Call-Transcript.pdf\n",
      "├── data-analyser-bert-summarization.ipynb\n",
      "├── data-analyser-bert-summarization.py\n",
      "├── data-collection-seekingalpha-pymongo.ipynb\n",
      "├── data-collection-seekingalpha-pymongo.py\n",
      "├── Dockerfile\n",
      "├── docs/\n",
      "│   ├── week-1.md\n",
      "│   ├── week-2.md\n",
      "│   ├── week-3.md\n",
      "│   ├── week-4.md\n",
      "│   └── week-5.md\n",
      "├── img/\n",
      "│   ├── 127-0-0-1-5000-health.png\n",
      "│   ├── 127-0-0-1-5000-metrics.png\n",
      "│   ├── Data-Cloud-MongoDB-Cloud.png\n",
      "│   ├── docker-illustration-2.png\n",
      "│   ├── docker-illustration.png\n",
      "│   ├── maxresdefault.jpg\n",
      "│   ├── seekingalpha-logo.png\n",
      "│   ├── Text-Summarizer-App-using-SBert-Input.png\n",
      "│   ├── Text-Summarizer-App-using-SBert-Output.png\n",
      "│   └── TFJoS071SOCy9xffijzKHA_56e96935f1694d079ced23932dbb92a1_Earning-Call-Analytics-Whiteboard-Exercise.png\n",
      "├── models/\n",
      "├── notebooks/\n",
      "│   └── 00-tree-directory.ipynb\n",
      "├── Procfile\n",
      "├── README.md\n",
      "├── requirements.txt\n",
      "├── templates/\n",
      "│   ├── index.html\n",
      "│   └── summary.html\n",
      "└── tests/\n",
      "    ├── __init__.py\n",
      "    ├── beta_test.py\n",
      "    ├── test_adv.py\n",
      "    ├── test_alpha.py\n",
      "    ├── test_bmi.py\n",
      "    ├── test_fixture1.py\n",
      "    ├── test_fixture2.py\n",
      "    └── test_fixture3.py\n",
      "\n"
     ]
    }
   ],
   "source": [
    "from directory_tree import display_tree\n",
    "\n",
    "# Define the custom path to be displayed\n",
    "customPath = '/workspaces/MSDS-DTSA-5714-EarningsCall/'\n",
    "\n",
    "# Use display_tree function to get the string representation of the directory tree\n",
    "stringRepresentation = display_tree(customPath, \n",
    "                                    string_rep=True,  # Return string representation\n",
    "                                    show_hidden=True,  # Show hidden files/directories\n",
    "                                    max_depth=2)      # Set the maximum depth of the tree\n",
    "\n",
    "# Print the string representation of the directory tree\n",
    "print(stringRepresentation)"
   ]
  }
 ],
 "metadata": {
  "kernelspec": {
   "display_name": ".venv",
   "language": "python",
   "name": "python3"
  },
  "language_info": {
   "codemirror_mode": {
    "name": "ipython",
    "version": 3
   },
   "file_extension": ".py",
   "mimetype": "text/x-python",
   "name": "python",
   "nbconvert_exporter": "python",
   "pygments_lexer": "ipython3",
   "version": "3.10.13"
  }
 },
 "nbformat": 4,
 "nbformat_minor": 2
}
